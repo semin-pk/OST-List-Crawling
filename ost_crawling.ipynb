{
 "cells": [
  {
   "cell_type": "code",
   "execution_count": 7,
   "metadata": {},
   "outputs": [],
   "source": [
    "dramas = ['도깨비', '이태원 클라쓰', '그해 우리는', '사랑의 불시착', '미스터 션샤인']"
   ]
  },
  {
   "cell_type": "code",
   "execution_count": 17,
   "metadata": {},
   "outputs": [],
   "source": [
    "from selenium import webdriver\n",
    "from selenium.webdriver.common.by import By\n",
    "from selenium.webdriver.common.keys import Keys\n",
    "import time\n",
    "from bs4 import BeautifulSoup\n",
    "driver = webdriver.Chrome()\n",
    "driver.implicitly_wait(15)\n",
    "ost_list = {}\n",
    "for drama in dramas:\n",
    "    driver.get('https://www.naver.com/')\n",
    "    search = driver.find_element(By.XPATH, '//*[@id=\"query\"]')\n",
    "    search.send_keys(Keys.CONTROL, Keys.ALT)\n",
    "    search.send_keys(Keys.BACK_SPACE)\n",
    "    search.send_keys('{}\\n'.format(drama))\n",
    "    driver.find_element(By.XPATH, '//*[@id=\"main_pack\"]/div[2]/div[1]/div[5]/div/div/ul/li[8]/a/span[2]').click()\n",
    "    soup = BeautifulSoup(driver.page_source, 'html.parser')\n",
    "    album_name = soup.select('div.info_box > strong > span')\n",
    "    album_artist = soup.select('div.info_box > div > span.info_txt.line_1')\n",
    "    # 편성표 메뉴가 추가되어 관련앨범 메뉴가 원래는 8번째이지만 9번째로 밀려나있어서\n",
    "    # album_name이 비어있으면 9번째메뉴로 이동하여 크롤링 진행\n",
    "    if not album_name:\n",
    "        driver.find_element(By.XPATH, '//*[@id=\"main_pack\"]/div[2]/div[1]/div[5]/div/div/ul/li[9]/a/span').click()\n",
    "        album_name = soup.select('div.info_box > strong > span')\n",
    "        album_artist = soup.select('div.info_box > div > span.info_txt.line_1')\n",
    "    for i in range(len(album_name)):\n",
    "        if drama in ost_list:\n",
    "            ost_list[drama].append([album_name[i].getText(), album_artist[i].getText()])\n",
    "        else:\n",
    "            ost_list[drama] = [[album_name[i].getText(), album_artist[i].getText()]]    \n"
   ]
  },
  {
   "cell_type": "code",
   "execution_count": 18,
   "metadata": {},
   "outputs": [
    {
     "name": "stdout",
     "output_type": "stream",
     "text": [
      "{'도깨비': [['도깨비 OST Part 14', '헤이즈 (Heize)'], ['도깨비 OST Part 13', '마마무(Mamamoo)'], ['도깨비 OST Part 12', '로이킴,김이지'], ['도깨비 OST Part 11', 'Various Artists'], ['도깨비 OST Part 10', '어반자카파'], ['도깨비 OST Part 9', '에일리(Ailee)'], ['도깨비 OST Part 8', '정준일'], ['도깨비 OST Part 7', '소유 (SOYOU)'], ['도깨비 OST Part 6', '샘김(Sam Kim)'], ['도깨비 OST Part 5', '에디킴'], ['도깨비 OST Part 4', 'Crush'], ['도깨비 OST Part 3', 'Lasse Lindh'], ['도깨비 OST Part 2', '10CM'], ['도깨비 OST Part 1', '찬열 (CHANYEOL),펀치 (Punch)'], ['도깨비 OST Part 1', '찬열,펀치(Punch)']], '그해 우리는': [['그 해 우리는 OST Special', 'Various Artists'], ['그 해 우리는 OST Part 11', '김경희'], ['그 해 우리는 OST Part 10', '장범준'], ['그 해 우리는 OST Part 9', '양요섭'], ['그 해 우리는 OST Part 8', '샘김(Sam Kim)'], ['그 해 우리는 OST Part 7', '이승윤'], ['그 해 우리는 OST Part 6', 'Janet\\xa0Suhh(자넷서)'], ['그 해 우리는 OST Part 5', 'V'], ['그 해 우리는 OST Part 4', '김나영'], ['그 해 우리는 OST Part 3', '하성운'], ['그 해 우리는 OST Part 2', '비비(BIBI)'], ['그 해 우리는 OST Part 1', '10CM']], '사랑의 불시착': [['사랑의 불시착 OST', 'Various Artists'], ['사랑의 불시착 OST Part 11', '아이유(IU)'], ['사랑의 불시착 OST Part 10', 'Crush'], ['사랑의 불시착 OST Part 9', '소수빈,소희'], ['사랑의 불시착 OST Part 8', '김세정'], ['사랑의 불시착 OST Part 7', '에이프릴 세컨드(April 2nd)'], ['사랑의 불시착 OST Part 6', '송가인'], ['사랑의 불시착 OST Part 5', '김재환'], ['사랑의 불시착 OST Part 4', '백예린(Yerin Baek)'], ['사랑의 불시착 OST Part 3', '다비치'], ['사랑의 불시착 OST Part 2', '윤미래'], ['사랑의 불시착 OST Part 1', '10CM']]}\n"
     ]
    }
   ],
   "source": [
    "print(ost_list)"
   ]
  }
 ],
 "metadata": {
  "kernelspec": {
   "display_name": "base",
   "language": "python",
   "name": "python3"
  },
  "language_info": {
   "codemirror_mode": {
    "name": "ipython",
    "version": 3
   },
   "file_extension": ".py",
   "mimetype": "text/x-python",
   "name": "python",
   "nbconvert_exporter": "python",
   "pygments_lexer": "ipython3",
   "version": "3.10.9"
  }
 },
 "nbformat": 4,
 "nbformat_minor": 2
}
